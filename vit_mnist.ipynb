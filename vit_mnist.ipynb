{
  "nbformat": 4,
  "nbformat_minor": 0,
  "metadata": {
    "colab": {
      "provenance": [],
      "gpuType": "T4"
    },
    "kernelspec": {
      "name": "python3",
      "display_name": "Python 3"
    },
    "language_info": {
      "name": "python"
    },
    "accelerator": "GPU"
  },
  "cells": [
    {
      "cell_type": "code",
      "execution_count": null,
      "metadata": {
        "colab": {
          "base_uri": "https://localhost:8080/"
        },
        "id": "BpU0lG64k7aq",
        "outputId": "d975bc0e-8874-4bea-82fb-b1986f271b32"
      },
      "outputs": [
        {
          "output_type": "stream",
          "name": "stdout",
          "text": [
            "Requirement already satisfied: vit_pytorch in /usr/local/lib/python3.10/dist-packages (1.6.1)\n",
            "Requirement already satisfied: einops>=0.7.0 in /usr/local/lib/python3.10/dist-packages (from vit_pytorch) (0.7.0)\n",
            "Requirement already satisfied: torch>=1.10 in /usr/local/lib/python3.10/dist-packages (from vit_pytorch) (2.1.0+cu118)\n",
            "Requirement already satisfied: torchvision in /usr/local/lib/python3.10/dist-packages (from vit_pytorch) (0.16.0+cu118)\n",
            "Requirement already satisfied: filelock in /usr/local/lib/python3.10/dist-packages (from torch>=1.10->vit_pytorch) (3.12.4)\n",
            "Requirement already satisfied: typing-extensions in /usr/local/lib/python3.10/dist-packages (from torch>=1.10->vit_pytorch) (4.5.0)\n",
            "Requirement already satisfied: sympy in /usr/local/lib/python3.10/dist-packages (from torch>=1.10->vit_pytorch) (1.12)\n",
            "Requirement already satisfied: networkx in /usr/local/lib/python3.10/dist-packages (from torch>=1.10->vit_pytorch) (3.1)\n",
            "Requirement already satisfied: jinja2 in /usr/local/lib/python3.10/dist-packages (from torch>=1.10->vit_pytorch) (3.1.2)\n",
            "Requirement already satisfied: fsspec in /usr/local/lib/python3.10/dist-packages (from torch>=1.10->vit_pytorch) (2023.6.0)\n",
            "Requirement already satisfied: triton==2.1.0 in /usr/local/lib/python3.10/dist-packages (from torch>=1.10->vit_pytorch) (2.1.0)\n",
            "Requirement already satisfied: numpy in /usr/local/lib/python3.10/dist-packages (from torchvision->vit_pytorch) (1.23.5)\n",
            "Requirement already satisfied: requests in /usr/local/lib/python3.10/dist-packages (from torchvision->vit_pytorch) (2.31.0)\n",
            "Requirement already satisfied: pillow!=8.3.*,>=5.3.0 in /usr/local/lib/python3.10/dist-packages (from torchvision->vit_pytorch) (9.4.0)\n",
            "Requirement already satisfied: MarkupSafe>=2.0 in /usr/local/lib/python3.10/dist-packages (from jinja2->torch>=1.10->vit_pytorch) (2.1.3)\n",
            "Requirement already satisfied: charset-normalizer<4,>=2 in /usr/local/lib/python3.10/dist-packages (from requests->torchvision->vit_pytorch) (3.3.0)\n",
            "Requirement already satisfied: idna<4,>=2.5 in /usr/local/lib/python3.10/dist-packages (from requests->torchvision->vit_pytorch) (3.4)\n",
            "Requirement already satisfied: urllib3<3,>=1.21.1 in /usr/local/lib/python3.10/dist-packages (from requests->torchvision->vit_pytorch) (2.0.7)\n",
            "Requirement already satisfied: certifi>=2017.4.17 in /usr/local/lib/python3.10/dist-packages (from requests->torchvision->vit_pytorch) (2023.7.22)\n",
            "Requirement already satisfied: mpmath>=0.19 in /usr/local/lib/python3.10/dist-packages (from sympy->torch>=1.10->vit_pytorch) (1.3.0)\n"
          ]
        }
      ],
      "source": [
        "!pip install vit_pytorch"
      ]
    },
    {
      "cell_type": "code",
      "source": [
        "import torch\n",
        "from vit_pytorch import ViT\n",
        "from torchvision import transforms\n",
        "from torchvision.datasets import MNIST\n",
        "from torch.utils.data import DataLoader\n",
        "import torch.optim as optim\n",
        "import torch.nn as nn\n",
        "import pandas as pd"
      ],
      "metadata": {
        "id": "3EkzAb6nk9fT"
      },
      "execution_count": null,
      "outputs": []
    },
    {
      "cell_type": "code",
      "source": [],
      "metadata": {
        "id": "7C0NYtPEVOWE"
      },
      "execution_count": null,
      "outputs": []
    },
    {
      "cell_type": "code",
      "source": [
        "#MNIST\n",
        "img_size = 28\n",
        "batch_size = 256\n",
        "#transform = transforms.Compose([transforms.ToTensor()])\n",
        "transform = transforms.Compose([\n",
        "    transforms.Grayscale(num_output_channels=3),\n",
        "    transforms.ToTensor(),\n",
        "    transforms.Normalize(mean=(0.5, 0.5, 0.5), std=(0.5, 0.5, 0.5))\n",
        "])\n",
        "\n",
        "mnist_train = MNIST(root='./data', train=True, download=True, transform=transform)\n",
        "mnist_test = MNIST(\"./data\", train=False, download=True, transform=transform)\n",
        "\n",
        "\n",
        "train_loader = DataLoader(mnist_train, batch_size=batch_size, shuffle=False)\n",
        "test_loader = DataLoader(mnist_test, batch_size=batch_size, shuffle=False)\n"
      ],
      "metadata": {
        "id": "86yuESYSmDIm"
      },
      "execution_count": null,
      "outputs": []
    },
    {
      "cell_type": "code",
      "source": [
        "device = torch.device('cuda:0' if torch.cuda.is_available() else 'cpu')\n",
        "\n",
        "net = ViT(\n",
        "image_size=img_size,\n",
        "patch_size=4,\n",
        "num_classes=10,\n",
        "dim=256,\n",
        "depth=3,\n",
        "heads=4,\n",
        "mlp_dim=256,\n",
        "dropout=0.1,\n",
        "emb_dropout=0.1\n",
        ").to(device)"
      ],
      "metadata": {
        "id": "Ucwt1OeLlDy2"
      },
      "execution_count": null,
      "outputs": []
    },
    {
      "cell_type": "code",
      "source": [
        "criterion = nn.CrossEntropyLoss()\n",
        "optimizer = optim.SGD(net.parameters(), lr=0.001, momentum=0.9)\n",
        "\n",
        "record_loss_train = []\n",
        "record_loss_test = []"
      ],
      "metadata": {
        "id": "QlaAvHfAOXd7"
      },
      "execution_count": null,
      "outputs": []
    },
    {
      "cell_type": "code",
      "source": [
        "\n",
        "epochs = 20\n",
        "for epoch in range(0, epochs):\n",
        "  epoch_train_loss = 0\n",
        "  epoch_train_acc = 0\n",
        "  epoch_test_loss = 0\n",
        "  epoch_test_acc = 0\n",
        "\n",
        "  net.train()\n",
        "  for data in train_loader:\n",
        "    inputs, labels = data[0].to(device), data[1].to(device)\n",
        "    #print(\"Input shape:\", inputs.shape)\n",
        "    optimizer.zero_grad()\n",
        "\n",
        "    outputs = net(inputs)\n",
        "    loss = criterion(outputs, labels)\n",
        "    loss.backward()\n",
        "    optimizer.step()\n",
        "\n",
        "    epoch_train_loss += loss.item()/len(train_loader)\n",
        "    acc = (outputs.argmax(dim=1) == labels).float().mean()\n",
        "    epoch_train_acc += acc/len(train_loader)\n",
        "\n",
        "  net.eval()\n",
        "  with torch.no_grad():\n",
        "    for data in test_loader:\n",
        "      inputs, labels = data[0].to(device), data[1].to(device)\n",
        "      outputs = net(inputs)\n",
        "      loss = criterion(outputs, labels)\n",
        "      epoch_test_loss += loss.item()/len(test_loader)\n",
        "      test_acc = (outputs.argmax(dim=1) == labels).float().mean()\n",
        "      epoch_test_acc += test_acc/len(test_loader)\n",
        "\n",
        "  print(f'Epoch {epoch+1} : train acc. {epoch_train_acc:.2f} train loss {epoch_train_loss:.2f}')\n",
        "  print(f'Epoch {epoch+1} : test acc. {epoch_test_acc:.2f} test loss {epoch_test_loss:.2f}')"
      ],
      "metadata": {
        "colab": {
          "base_uri": "https://localhost:8080/"
        },
        "id": "sAHKmpVklFdh",
        "outputId": "2e4862f4-4a40-4921-d564-7f52a13f2885"
      },
      "execution_count": null,
      "outputs": [
        {
          "output_type": "stream",
          "name": "stdout",
          "text": [
            "Epoch 1 : train acc. 0.16 train loss 2.28\n",
            "Epoch 1 : test acc. 0.17 test loss 2.23\n",
            "Epoch 2 : train acc. 0.20 train loss 2.21\n",
            "Epoch 2 : test acc. 0.24 test loss 2.11\n",
            "Epoch 3 : train acc. 0.25 train loss 2.05\n",
            "Epoch 3 : test acc. 0.34 test loss 1.87\n",
            "Epoch 4 : train acc. 0.35 train loss 1.82\n",
            "Epoch 4 : test acc. 0.52 test loss 1.52\n",
            "Epoch 5 : train acc. 0.55 train loss 1.38\n",
            "Epoch 5 : test acc. 0.69 test loss 0.91\n",
            "Epoch 6 : train acc. 0.69 train loss 0.94\n",
            "Epoch 6 : test acc. 0.79 test loss 0.65\n",
            "Epoch 7 : train acc. 0.77 train loss 0.71\n",
            "Epoch 7 : test acc. 0.84 test loss 0.51\n",
            "Epoch 8 : train acc. 0.82 train loss 0.56\n",
            "Epoch 8 : test acc. 0.88 test loss 0.41\n",
            "Epoch 9 : train acc. 0.85 train loss 0.47\n",
            "Epoch 9 : test acc. 0.90 test loss 0.35\n",
            "Epoch 10 : train acc. 0.87 train loss 0.42\n",
            "Epoch 10 : test acc. 0.91 test loss 0.31\n",
            "Epoch 11 : train acc. 0.88 train loss 0.38\n",
            "Epoch 11 : test acc. 0.92 test loss 0.28\n",
            "Epoch 12 : train acc. 0.89 train loss 0.35\n",
            "Epoch 12 : test acc. 0.93 test loss 0.26\n",
            "Epoch 13 : train acc. 0.90 train loss 0.33\n",
            "Epoch 13 : test acc. 0.93 test loss 0.24\n",
            "Epoch 14 : train acc. 0.91 train loss 0.31\n",
            "Epoch 14 : test acc. 0.94 test loss 0.23\n",
            "Epoch 15 : train acc. 0.91 train loss 0.29\n",
            "Epoch 15 : test acc. 0.94 test loss 0.22\n",
            "Epoch 16 : train acc. 0.91 train loss 0.28\n",
            "Epoch 16 : test acc. 0.94 test loss 0.21\n",
            "Epoch 17 : train acc. 0.92 train loss 0.27\n",
            "Epoch 17 : test acc. 0.95 test loss 0.20\n",
            "Epoch 18 : train acc. 0.92 train loss 0.26\n",
            "Epoch 18 : test acc. 0.95 test loss 0.20\n",
            "Epoch 19 : train acc. 0.92 train loss 0.25\n",
            "Epoch 19 : test acc. 0.95 test loss 0.19\n",
            "Epoch 20 : train acc. 0.92 train loss 0.24\n",
            "Epoch 20 : test acc. 0.95 test loss 0.18\n"
          ]
        }
      ]
    },
    {
      "cell_type": "code",
      "source": [
        "for i in range(5):\n",
        "  net.train()\n",
        "  loss_train = 0\n",
        "  for j, (x, t) in enumerate(train_loader):\n",
        "    x, t = x.cuda(), t.cuda()\n",
        "    print(\"Input shape:\", x.shape)\n",
        "    y = net(x)"
      ],
      "metadata": {
        "id": "Xc3EjWOiOrMt"
      },
      "execution_count": null,
      "outputs": []
    }
  ]
}